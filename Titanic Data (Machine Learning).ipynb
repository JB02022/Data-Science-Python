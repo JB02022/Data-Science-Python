{
 "cells": [
  {
   "cell_type": "markdown",
   "id": "a8c00620",
   "metadata": {},
   "source": [
    "I used Kaggle's Titanic problem and tried to predict the survival rate on the Titanic using a logistic regression model.\n",
    "\n",
    "Codes are followed by a description"
   ]
  },
  {
   "cell_type": "code",
   "execution_count": 19,
   "id": "3de4c565",
   "metadata": {},
   "outputs": [
    {
     "name": "stdout",
     "output_type": "stream",
     "text": [
      "   PassengerId  Survived  Pclass  \\\n",
      "0            1         0       3   \n",
      "1            2         1       1   \n",
      "2            3         1       3   \n",
      "3            4         1       1   \n",
      "4            5         0       3   \n",
      "\n",
      "                                                Name     Sex   Age  SibSp  \\\n",
      "0                            Braund, Mr. Owen Harris    male  22.0      1   \n",
      "1  Cumings, Mrs. John Bradley (Florence Briggs Th...  female  38.0      1   \n",
      "2                             Heikkinen, Miss. Laina  female  26.0      0   \n",
      "3       Futrelle, Mrs. Jacques Heath (Lily May Peel)  female  35.0      1   \n",
      "4                           Allen, Mr. William Henry    male  35.0      0   \n",
      "\n",
      "   Parch            Ticket     Fare Cabin Embarked  \n",
      "0      0         A/5 21171   7.2500   NaN        S  \n",
      "1      0          PC 17599  71.2833   C85        C  \n",
      "2      0  STON/O2. 3101282   7.9250   NaN        S  \n",
      "3      0            113803  53.1000  C123        S  \n",
      "4      0            373450   8.0500   NaN        S  \n",
      "<class 'pandas.core.frame.DataFrame'>\n",
      "RangeIndex: 891 entries, 0 to 890\n",
      "Data columns (total 12 columns):\n",
      " #   Column       Non-Null Count  Dtype  \n",
      "---  ------       --------------  -----  \n",
      " 0   PassengerId  891 non-null    int64  \n",
      " 1   Survived     891 non-null    int64  \n",
      " 2   Pclass       891 non-null    int64  \n",
      " 3   Name         891 non-null    object \n",
      " 4   Sex          891 non-null    object \n",
      " 5   Age          714 non-null    float64\n",
      " 6   SibSp        891 non-null    int64  \n",
      " 7   Parch        891 non-null    int64  \n",
      " 8   Ticket       891 non-null    object \n",
      " 9   Fare         891 non-null    float64\n",
      " 10  Cabin        204 non-null    object \n",
      " 11  Embarked     889 non-null    object \n",
      "dtypes: float64(2), int64(5), object(5)\n",
      "memory usage: 83.7+ KB\n",
      "None\n"
     ]
    }
   ],
   "source": [
    "import sklearn\n",
    "from sklearn.linear_model import LogisticRegression\n",
    "from sklearn.metrics import classification_report,confusion_matrix\n",
    "import numpy as np\n",
    "from sklearn.model_selection import train_test_split\n",
    "from sklearn import metrics\n",
    "import pandas as pd\n",
    "import matplotlib.pyplot as plt\n",
    "import seaborn as sns\n",
    "import os\n",
    "pd.set_option('display.max_columns',20)\n",
    "os.chdir(\"C:\\\\users\\julie\\pJupyterProjects\\Data Science\")\n",
    "\n",
    "train=pd.read_csv(\"titanic_train.csv\")\n",
    "print(train.head())\n",
    "print(train.info())"
   ]
  },
  {
   "cell_type": "markdown",
   "id": "6e343989",
   "metadata": {},
   "source": [
    "The head() method indicates that the survived and sibling spouse (SibSp) column uses 0s and 1s, and that the Sex column is an object (maybe will be converted to 0s and 1s for the model).\n",
    "The info() method shows that there are some missing values in the Age, Cabin, and Embarked column."
   ]
  },
  {
   "cell_type": "code",
   "execution_count": 20,
   "id": "eb91822e",
   "metadata": {},
   "outputs": [
    {
     "data": {
      "image/png": "[encoded data removed]",
      "text/plain": [
       "<Figure size 432x288 with 1 Axes>"
      ]
     },
     "metadata": {},
     "output_type": "display_data"
    }
   ],
   "source": [
    "sns.heatmap(train.isnull(),yticklabels=False,cbar=False,cmap='viridis')\n",
    "plt.show()"
   ]
  },
  {
   "cell_type": "markdown",
   "id": "0b8fdd5c",
   "metadata": {},
   "source": [
    "This is a heatmap of the Boolean values where the yellow is the missing data and purple is the data that is available.\n",
    "The age column has around 20% of missing value and there are enough categories that we can use to fill in that gap (by predicting the age of these passengers). However, for the cabin column, there are too much missing values and thus it is not worth trying to fix it with the model."
   ]
  },
  {
   "cell_type": "code",
   "execution_count": 21,
   "id": "f2aed8f6",
   "metadata": {},
   "outputs": [
    {
     "data": {
      "image/png": "[encoded data removed]",
      "text/plain": [
       "<Figure size 432x288 with 1 Axes>"
      ]
     },
     "metadata": {},
     "output_type": "display_data"
    }
   ],
   "source": [
    "sns.set_style('whitegrid')\n",
    "sns.countplot(x='Survived',data=train,hue='Sex',palette='plasma')\n",
    "plt.show()"
   ]
  },
  {
   "cell_type": "markdown",
   "id": "2d844cbd",
   "metadata": {},
   "source": [
    "This is an exploratory analysis of who survived vs who did not survive. 0 indicate that the person did not survive and 1 \n",
    "means they did survive."
   ]
  },
  {
   "cell_type": "code",
   "execution_count": 22,
   "id": "77877d79",
   "metadata": {},
   "outputs": [
    {
     "data": {
      "image/png": "[encoded data removed]",
      "text/plain": [
       "<Figure size 432x288 with 1 Axes>"
      ]
     },
     "metadata": {},
     "output_type": "display_data"
    }
   ],
   "source": [
    "sns.set_style('whitegrid')\n",
    "sns.countplot(x='Survived',data=train,hue='Pclass',palette='plasma')\n",
    "plt.show()"
   ]
  },
  {
   "cell_type": "markdown",
   "id": "d14c754d",
   "metadata": {},
   "source": [
    "The people that survived were most likely in the 1st passenger class whereas most people that did not \n",
    "survive were in the 3rd passenger class (the poorer class)."
   ]
  },
  {
   "cell_type": "code",
   "execution_count": 23,
   "id": "4ef01b98",
   "metadata": {},
   "outputs": [
    {
     "data": {
      "image/png": "[encoded data removed]",
      "text/plain": [
       "<Figure size 432x288 with 1 Axes>"
      ]
     },
     "metadata": {},
     "output_type": "display_data"
    }
   ],
   "source": [
    "sns.set_style('whitegrid')\n",
    "sns.distplot(train['Age'].dropna(),kde=False,bins=30)\n",
    "plt.show()\n",
    "\n",
    "import warnings\n",
    "warnings.filterwarnings('ignore')"
   ]
  },
  {
   "cell_type": "markdown",
   "id": "fcdf2f0f",
   "metadata": {},
   "source": [
    "The bimodal distribution shows that there are a lot of babies, and people in their teens/adulthood and that the amount of \n",
    "people decreases the older they are. "
   ]
  },
  {
   "cell_type": "markdown",
   "id": "9b6b2642",
   "metadata": {},
   "source": [
    "We can now clean our data so that it's in a compatible form for the machine learning algorithm. One way to complete the \n",
    "missing data from the age column is to simply insert the (in the missing rows) the average age of that column. However, \n",
    "we can check the average age by passenger class. "
   ]
  },
  {
   "cell_type": "code",
   "execution_count": 24,
   "id": "735b007e",
   "metadata": {},
   "outputs": [
    {
     "data": {
      "image/png": "[encoded data removed]",
      "text/plain": [
       "<Figure size 432x288 with 1 Axes>"
      ]
     },
     "metadata": {},
     "output_type": "display_data"
    }
   ],
   "source": [
    "sns.boxplot(x='Pclass',y='Age',data=train)\n",
    "plt.show()"
   ]
  },
  {
   "cell_type": "markdown",
   "id": "0a4ece9e",
   "metadata": {},
   "source": [
    "Shows that people in the 1st class are older than people in the 2nd or 3rd class, on average.\n",
    "We can use this mean value per class to fill in the missing values in the Age column."
   ]
  },
  {
   "cell_type": "code",
   "execution_count": 25,
   "id": "75309757",
   "metadata": {},
   "outputs": [
    {
     "data": {
      "image/png": "[encoded data removed]",
      "text/plain": [
       "<Figure size 432x288 with 1 Axes>"
      ]
     },
     "metadata": {},
     "output_type": "display_data"
    }
   ],
   "source": [
    "def asd(x):\n",
    "    b = x[0]\n",
    "    Pclass=x[1]\n",
    "    if pd.isnull(b):\n",
    "        if Pclass ==1:\n",
    "            return 37\n",
    "        if Pclass==2:\n",
    "            return 29\n",
    "        else:\n",
    "            return 24\n",
    "    else:\n",
    "        return b\n",
    "\n",
    "train['Age']=train[['Age','Pclass']].apply(asd,axis=1)\n",
    "sns.heatmap(train.isnull(),yticklabels=False,cbar=False)\n",
    "plt.show()\n",
    "\n",
    "train.drop(\"Cabin\",axis=1,inplace=True)\n",
    "train.dropna(inplace=True)"
   ]
  },
  {
   "cell_type": "markdown",
   "id": "7b081033",
   "metadata": {},
   "source": [
    "The matrix demonstrates that the age column has been filled with reasonable values. \n",
    "Removed the Cabin column from the dataFrame and used inplace to make sure this is permanent. \n",
    "train.dropna() dropped the missing values from the dataFrame (e.g., from the embarked column)."
   ]
  },
  {
   "cell_type": "code",
   "execution_count": 26,
   "id": "2bd79ada",
   "metadata": {},
   "outputs": [
    {
     "name": "stdout",
     "output_type": "stream",
     "text": [
      "   Q  S\n",
      "0  0  1\n",
      "1  0  0\n",
      "2  0  1\n",
      "3  0  1\n",
      "4  0  1\n"
     ]
    }
   ],
   "source": [
    "embark = pd.get_dummies(train['Embarked'],drop_first=True)\n",
    "print(embark.head())"
   ]
  },
  {
   "cell_type": "markdown",
   "id": "e4b1465d",
   "metadata": {},
   "source": [
    "The dummy variable allows a machine learning algorithm to understand columns that are objects (in string notation).\n",
    "To avoid the multicollinearity issue, the drop_first=True was used to remove the first column."
   ]
  },
  {
   "cell_type": "code",
   "execution_count": 27,
   "id": "3c34ffec",
   "metadata": {},
   "outputs": [
    {
     "name": "stdout",
     "output_type": "stream",
     "text": [
      "   Survived  Pclass   Age  SibSp  Parch     Fare  male  Q  S\n",
      "0         0       3  22.0      1      0   7.2500     1  0  1\n",
      "1         1       1  38.0      1      0  71.2833     0  0  0\n",
      "2         1       3  26.0      0      0   7.9250     0  0  1\n",
      "3         1       1  35.0      1      0  53.1000     0  0  1\n",
      "4         0       3  35.0      0      0   8.0500     1  0  1\n"
     ]
    }
   ],
   "source": [
    "sex = pd.get_dummies(train['Sex'],drop_first=True)\n",
    "embark = pd.get_dummies(train['Embarked'],drop_first=True)\n",
    "train = pd.concat([train,sex,embark],axis=1)\n",
    "train.drop([\"Sex\",\"Embarked\",\"Name\",\"Ticket\"],axis=1,inplace=True)\n",
    "train.drop([\"PassengerId\"],axis=1,inplace =True)\n",
    "print(train.head())"
   ]
  },
  {
   "cell_type": "markdown",
   "id": "001d0d2a",
   "metadata": {},
   "source": [
    "Added the newly created columns (dummies) at the end of the DataFrame (the name of those columns are male, Q, and S).\n",
    "Dropped the columns from the Data Frame that are still objects (str) and the passengerID column (since it is no an indicator of survival rate)."
   ]
  },
  {
   "cell_type": "markdown",
   "id": "abda5968",
   "metadata": {},
   "source": [
    "The dataFrame is all numerical and compatible with machine learning algorithm."
   ]
  },
  {
   "cell_type": "code",
   "execution_count": 28,
   "id": "a613f127",
   "metadata": {},
   "outputs": [
    {
     "name": "stdout",
     "output_type": "stream",
     "text": [
      "              precision    recall  f1-score   support\n",
      "\n",
      "           0       0.82      0.92      0.87       163\n",
      "           1       0.85      0.69      0.76       104\n",
      "\n",
      "    accuracy                           0.83       267\n",
      "   macro avg       0.84      0.81      0.82       267\n",
      "weighted avg       0.83      0.83      0.83       267\n",
      "\n",
      "[[150  13]\n",
      " [ 32  72]]\n"
     ]
    }
   ],
   "source": [
    "X=train[['Pclass', 'Age', 'SibSp', 'Parch', 'Fare', 'male', 'Q','S']]   \n",
    "y=train['Survived']\n",
    "\n",
    "X_train,X_test,y_train,y_test = train_test_split(X,y,test_size=0.3,random_state=101)   \n",
    "\n",
    "lg=LogisticRegression(max_iter=1000)\n",
    "lg.fit(X_train,y_train)\n",
    "\n",
    "prediction=lg.predict(X_test)\n",
    "\n",
    "print(classification_report(y_test,prediction))\n",
    "print(confusion_matrix(y_test,prediction))"
   ]
  },
  {
   "cell_type": "markdown",
   "id": "f5f7ca53",
   "metadata": {},
   "source": [
    "The results are not bad considering we're using a subset of the data."
   ]
  },
  {
   "cell_type": "markdown",
   "id": "327b82e6",
   "metadata": {},
   "source": [
    "Time to compare this with other types of models, starting with  a neural network model."
   ]
  },
  {
   "cell_type": "code",
   "execution_count": 34,
   "id": "9fc2aa60",
   "metadata": {},
   "outputs": [
    {
     "name": "stdout",
     "output_type": "stream",
     "text": [
      "Epoch 1/600\n",
      "21/21 [==============================] - 0s 6ms/step - loss: 0.6951 - val_loss: 0.6457\n",
      "Epoch 2/600\n",
      "21/21 [==============================] - 0s 2ms/step - loss: 0.6646 - val_loss: 0.6179\n",
      "Epoch 3/600\n",
      "21/21 [==============================] - 0s 2ms/step - loss: 0.6484 - val_loss: 0.6016\n",
      "Epoch 4/600\n",
      "21/21 [==============================] - 0s 2ms/step - loss: 0.6236 - val_loss: 0.5868\n",
      "Epoch 5/600\n",
      "21/21 [==============================] - 0s 2ms/step - loss: 0.6384 - val_loss: 0.5769\n",
      "Epoch 6/600\n",
      "21/21 [==============================] - 0s 2ms/step - loss: 0.6486 - val_loss: 0.5741\n",
      "Epoch 7/600\n",
      "21/21 [==============================] - 0s 2ms/step - loss: 0.6280 - val_loss: 0.5682\n",
      "Epoch 8/600\n",
      "21/21 [==============================] - 0s 2ms/step - loss: 0.6156 - val_loss: 0.5577\n",
      "Epoch 9/600\n",
      "21/21 [==============================] - 0s 2ms/step - loss: 0.6191 - val_loss: 0.5466\n",
      "Epoch 10/600\n",
      "21/21 [==============================] - 0s 2ms/step - loss: 0.5892 - val_loss: 0.5376\n",
      "Epoch 11/600\n",
      "21/21 [==============================] - 0s 2ms/step - loss: 0.5899 - val_loss: 0.5313\n",
      "Epoch 12/600\n",
      "21/21 [==============================] - 0s 2ms/step - loss: 0.5963 - val_loss: 0.5235\n",
      "Epoch 13/600\n",
      "21/21 [==============================] - 0s 2ms/step - loss: 0.5835 - val_loss: 0.5174\n",
      "Epoch 14/600\n",
      "21/21 [==============================] - 0s 2ms/step - loss: 0.5755 - val_loss: 0.5109\n",
      "Epoch 15/600\n",
      "21/21 [==============================] - 0s 2ms/step - loss: 0.5716 - val_loss: 0.5060\n",
      "Epoch 16/600\n",
      "21/21 [==============================] - 0s 2ms/step - loss: 0.5743 - val_loss: 0.5022\n",
      "Epoch 17/600\n",
      "21/21 [==============================] - 0s 2ms/step - loss: 0.5424 - val_loss: 0.4968\n",
      "Epoch 18/600\n",
      "21/21 [==============================] - 0s 2ms/step - loss: 0.5675 - val_loss: 0.4917\n",
      "Epoch 19/600\n",
      "21/21 [==============================] - 0s 2ms/step - loss: 0.5479 - val_loss: 0.4874\n",
      "Epoch 20/600\n",
      "21/21 [==============================] - 0s 2ms/step - loss: 0.5425 - val_loss: 0.4808\n",
      "Epoch 21/600\n",
      "21/21 [==============================] - 0s 2ms/step - loss: 0.5506 - val_loss: 0.4739\n",
      "Epoch 22/600\n",
      "21/21 [==============================] - 0s 2ms/step - loss: 0.5426 - val_loss: 0.4730\n",
      "Epoch 23/600\n",
      "21/21 [==============================] - 0s 2ms/step - loss: 0.5513 - val_loss: 0.4715\n",
      "Epoch 24/600\n",
      "21/21 [==============================] - 0s 2ms/step - loss: 0.5372 - val_loss: 0.4693\n",
      "Epoch 25/600\n",
      "21/21 [==============================] - 0s 2ms/step - loss: 0.5274 - val_loss: 0.4648\n",
      "Epoch 26/600\n",
      "21/21 [==============================] - 0s 2ms/step - loss: 0.5399 - val_loss: 0.4599\n",
      "Epoch 27/600\n",
      "21/21 [==============================] - 0s 2ms/step - loss: 0.5322 - val_loss: 0.4615\n",
      "Epoch 28/600\n",
      "21/21 [==============================] - 0s 2ms/step - loss: 0.5260 - val_loss: 0.4619\n",
      "Epoch 29/600\n",
      "21/21 [==============================] - 0s 2ms/step - loss: 0.5205 - val_loss: 0.4572\n",
      "Epoch 30/600\n",
      "21/21 [==============================] - 0s 2ms/step - loss: 0.5339 - val_loss: 0.4547\n",
      "Epoch 31/600\n",
      "21/21 [==============================] - 0s 2ms/step - loss: 0.5196 - val_loss: 0.4536\n",
      "Epoch 32/600\n",
      "21/21 [==============================] - 0s 2ms/step - loss: 0.5310 - val_loss: 0.4518\n",
      "Epoch 33/600\n",
      "21/21 [==============================] - 0s 2ms/step - loss: 0.5255 - val_loss: 0.4507\n",
      "Epoch 34/600\n",
      "21/21 [==============================] - 0s 2ms/step - loss: 0.5002 - val_loss: 0.4511\n",
      "Epoch 35/600\n",
      "21/21 [==============================] - 0s 2ms/step - loss: 0.5090 - val_loss: 0.4462\n",
      "Epoch 36/600\n",
      "21/21 [==============================] - 0s 2ms/step - loss: 0.4908 - val_loss: 0.4449\n",
      "Epoch 37/600\n",
      "21/21 [==============================] - 0s 2ms/step - loss: 0.5240 - val_loss: 0.4467\n",
      "Epoch 38/600\n",
      "21/21 [==============================] - 0s 2ms/step - loss: 0.4965 - val_loss: 0.4414\n",
      "Epoch 39/600\n",
      "21/21 [==============================] - 0s 2ms/step - loss: 0.5084 - val_loss: 0.4408\n",
      "Epoch 40/600\n",
      "21/21 [==============================] - 0s 2ms/step - loss: 0.5040 - val_loss: 0.4434\n",
      "Epoch 41/600\n",
      "21/21 [==============================] - 0s 2ms/step - loss: 0.5211 - val_loss: 0.4449\n",
      "Epoch 42/600\n",
      "21/21 [==============================] - 0s 2ms/step - loss: 0.4880 - val_loss: 0.4377\n",
      "Epoch 43/600\n",
      "21/21 [==============================] - 0s 2ms/step - loss: 0.4926 - val_loss: 0.4368\n",
      "Epoch 44/600\n",
      "21/21 [==============================] - 0s 2ms/step - loss: 0.4962 - val_loss: 0.4382\n",
      "Epoch 45/600\n",
      "21/21 [==============================] - 0s 2ms/step - loss: 0.5125 - val_loss: 0.4397\n",
      "Epoch 46/600\n",
      "21/21 [==============================] - 0s 2ms/step - loss: 0.4817 - val_loss: 0.4368\n",
      "Epoch 47/600\n",
      "21/21 [==============================] - 0s 2ms/step - loss: 0.5016 - val_loss: 0.4360\n",
      "Epoch 48/600\n",
      "21/21 [==============================] - 0s 2ms/step - loss: 0.4876 - val_loss: 0.4367\n",
      "Epoch 49/600\n",
      "21/21 [==============================] - 0s 2ms/step - loss: 0.4847 - val_loss: 0.4315\n",
      "Epoch 50/600\n",
      "21/21 [==============================] - 0s 2ms/step - loss: 0.4871 - val_loss: 0.4312\n",
      "Epoch 51/600\n",
      "21/21 [==============================] - 0s 2ms/step - loss: 0.4842 - val_loss: 0.4320\n",
      "Epoch 52/600\n",
      "21/21 [==============================] - 0s 2ms/step - loss: 0.4959 - val_loss: 0.4342\n",
      "Epoch 53/600\n",
      "21/21 [==============================] - 0s 2ms/step - loss: 0.5115 - val_loss: 0.4375\n",
      "Epoch 54/600\n",
      "21/21 [==============================] - 0s 2ms/step - loss: 0.4907 - val_loss: 0.4356\n",
      "Epoch 55/600\n",
      "21/21 [==============================] - 0s 2ms/step - loss: 0.4787 - val_loss: 0.4321\n",
      "Epoch 56/600\n",
      "21/21 [==============================] - 0s 2ms/step - loss: 0.4894 - val_loss: 0.4336\n",
      "Epoch 00056: early stopping\n"
     ]
    },
    {
     "data": {
      "text/plain": [
       "<keras.callbacks.History at 0x262c312fac0>"
      ]
     },
     "execution_count": 34,
     "metadata": {},
     "output_type": "execute_result"
    }
   ],
   "source": [
    "X=train[['Pclass', 'Age', 'SibSp', 'Parch', 'Fare', 'male', 'Q','S']]   \n",
    "y=train['Survived']\n",
    "\n",
    "X_train,X_test,y_train,y_test=train_test_split(X,y,test_size=0.25)\n",
    "\n",
    "from sklearn.preprocessing import MinMaxScaler\n",
    "from tensorflow.keras.models import Sequential\n",
    "from tensorflow.keras.callbacks import EarlyStopping\n",
    "from tensorflow.keras.layers import Dense,Dropout\n",
    "\n",
    "\n",
    "scaler = MinMaxScaler()\n",
    "X_train = scaler.fit_transform(X_train)         \n",
    "X_test = scaler.transform(X_test)\n",
    "\n",
    "model = Sequential()\n",
    "early_stop = EarlyStopping(monitor='val_loss',mode='min',verbose=1,patience=6)\n",
    "model.add(Dense(units=30,activation='relu'))\n",
    "model.add(Dropout(rate=0.5))         \n",
    "model.add(Dense(units=15,activation='relu'))\n",
    "model.add(Dropout(rate=0.5))\n",
    "model.add(Dense(units=1,activation='sigmoid'))\n",
    "model.compile(loss='binary_crossentropy',optimizer='adam')\n",
    "model.fit(x=X_train,y=y_train,epochs=600,validation_data=(X_test,y_test),callbacks=[early_stop])"
   ]
  },
  {
   "cell_type": "code",
   "execution_count": 35,
   "id": "f61525f7",
   "metadata": {},
   "outputs": [
    {
     "data": {
      "image/png": "[encoded data removed]",
      "text/plain": [
       "<Figure size 432x288 with 1 Axes>"
      ]
     },
     "metadata": {},
     "output_type": "display_data"
    },
    {
     "name": "stdout",
     "output_type": "stream",
     "text": [
      "              precision    recall  f1-score   support\n",
      "\n",
      "           0       0.82      0.92      0.87       144\n",
      "           1       0.82      0.62      0.71        79\n",
      "\n",
      "    accuracy                           0.82       223\n",
      "   macro avg       0.82      0.77      0.79       223\n",
      "weighted avg       0.82      0.82      0.81       223\n",
      "\n",
      "[[133  11]\n",
      " [ 30  49]]\n"
     ]
    }
   ],
   "source": [
    "a = pd.DataFrame(model.history.history)\n",
    "a.plot()\n",
    "plt.show()\n",
    "\n",
    "prediction = (model.predict(X_test) > 0.5).astype(\"int32\")\n",
    "\n",
    "print(classification_report(y_test,prediction))\n",
    "print(confusion_matrix(y_test,prediction))"
   ]
  },
  {
   "cell_type": "markdown",
   "id": "dc1f87cb",
   "metadata": {},
   "source": [
    "The neural network model did not perform better than the logistic model (probably due to a small dataset)."
   ]
  },
  {
   "cell_type": "markdown",
   "id": "1baa1b1d",
   "metadata": {},
   "source": [
    "Now time to compare with a Random Forest model."
   ]
  },
  {
   "cell_type": "code",
   "execution_count": 37,
   "id": "d49102ff",
   "metadata": {},
   "outputs": [
    {
     "name": "stdout",
     "output_type": "stream",
     "text": [
      "              precision    recall  f1-score   support\n",
      "\n",
      "           0       0.84      0.87      0.85       142\n",
      "           1       0.75      0.70      0.73        81\n",
      "\n",
      "    accuracy                           0.81       223\n",
      "   macro avg       0.79      0.78      0.79       223\n",
      "weighted avg       0.81      0.81      0.81       223\n",
      "\n",
      "[[123  19]\n",
      " [ 24  57]]\n"
     ]
    }
   ],
   "source": [
    "from sklearn.ensemble import RandomForestClassifier\n",
    "\n",
    "X=train[['Pclass', 'Age', 'SibSp', 'Parch', 'Fare', 'male', 'Q','S']]   \n",
    "y=train['Survived']\n",
    "\n",
    "X_train,X_test,y_train,y_test=train_test_split(X,y,test_size=0.25)\n",
    "\n",
    "model = RandomForestClassifier(n_estimators=2000)\n",
    "model.fit(X_train,y_train)\n",
    "\n",
    "prediction = model.predict(X_test)\n",
    "print(classification_report(y_test,prediction))\n",
    "print(confusion_matrix(y_test,prediction))"
   ]
  },
  {
   "cell_type": "code",
   "execution_count": null,
   "id": "e27d0088",
   "metadata": {},
   "outputs": [],
   "source": [
    "The Random Forest model did not perform better than the neural network model."
   ]
  }
 ],
 "metadata": {
  "kernelspec": {
   "display_name": "Python 3",
   "language": "python",
   "name": "python3"
  },
  "language_info": {
   "codemirror_mode": {
    "name": "ipython",
    "version": 3
   },
   "file_extension": ".py",
   "mimetype": "text/x-python",
   "name": "python",
   "nbconvert_exporter": "python",
   "pygments_lexer": "ipython3",
   "version": "3.8.8"
  }
 },
 "nbformat": 4,
 "nbformat_minor": 5
}
