{
 "cells": [
  {
   "cell_type": "markdown",
   "id": "f7b4d047",
   "metadata": {},
   "source": [
    "Analysing 911 call data from Kaggle.com"
   ]
  },
  {
   "cell_type": "markdown",
   "id": "b6b4b729",
   "metadata": {},
   "source": [
    "In this project,I analyzed data from 911 calls which were retrieved from Kaggle.\n",
    "The codes are followed by a description."
   ]
  },
  {
   "cell_type": "code",
   "execution_count": 1,
   "id": "4da8087d",
   "metadata": {},
   "outputs": [
    {
     "name": "stdout",
     "output_type": "stream",
     "text": [
      "         lat        lng                                               desc  \\\n",
      "0  40.297876 -75.581294  REINDEER CT & DEAD END;  NEW HANOVER; Station ...   \n",
      "1  40.258061 -75.264680  BRIAR PATH & WHITEMARSH LN;  HATFIELD TOWNSHIP...   \n",
      "2  40.121182 -75.351975  HAWS AVE; NORRISTOWN; 2015-12-10 @ 14:39:21-St...   \n",
      "3  40.116153 -75.343513  AIRY ST & SWEDE ST;  NORRISTOWN; Station 308A;...   \n",
      "4  40.251492 -75.603350  CHERRYWOOD CT & DEAD END;  LOWER POTTSGROVE; S...   \n",
      "\n",
      "       zip                    title         timeStamp                twp  \\\n",
      "0  19525.0   EMS: BACK PAINS/INJURY  12/10/2015 17:40        NEW HANOVER   \n",
      "1  19446.0  EMS: DIABETIC EMERGENCY  12/10/2015 17:40  HATFIELD TOWNSHIP   \n",
      "2  19401.0      Fire: GAS-ODOR/LEAK  12/10/2015 17:40         NORRISTOWN   \n",
      "3  19401.0   EMS: CARDIAC EMERGENCY  12/10/2015 17:40         NORRISTOWN   \n",
      "4      NaN           EMS: DIZZINESS  12/10/2015 17:40   LOWER POTTSGROVE   \n",
      "\n",
      "                         addr  e  \n",
      "0      REINDEER CT & DEAD END  1  \n",
      "1  BRIAR PATH & WHITEMARSH LN  1  \n",
      "2                    HAWS AVE  1  \n",
      "3          AIRY ST & SWEDE ST  1  \n",
      "4    CHERRYWOOD CT & DEAD END  1  \n",
      "<class 'pandas.core.frame.DataFrame'>\n",
      "RangeIndex: 99492 entries, 0 to 99491\n",
      "Data columns (total 9 columns):\n",
      " #   Column     Non-Null Count  Dtype  \n",
      "---  ------     --------------  -----  \n",
      " 0   lat        99492 non-null  float64\n",
      " 1   lng        99492 non-null  float64\n",
      " 2   desc       99492 non-null  object \n",
      " 3   zip        86637 non-null  float64\n",
      " 4   title      99492 non-null  object \n",
      " 5   timeStamp  99492 non-null  object \n",
      " 6   twp        99449 non-null  object \n",
      " 7   addr       98973 non-null  object \n",
      " 8   e          99492 non-null  int64  \n",
      "dtypes: float64(3), int64(1), object(5)\n",
      "memory usage: 6.8+ MB\n",
      "None\n"
     ]
    }
   ],
   "source": [
    "import chart_studio.plotly as py\n",
    "import pandas as pd\n",
    "import numpy as pandas\n",
    "import matplotlib.pyplot as plt\n",
    "import numpy as np\n",
    "import seaborn as sns\n",
    "from plotly.offline import download_plotlyjs,init_notebook_mode,plot,iplot\n",
    "import plotly.graph_objs as go\n",
    "import os\n",
    "pd.set_option('display.max_columns',20)\n",
    "os.chdir(\"C:\\\\users\\julie\\pJupyterProjects\\Data Science\")\n",
    "df = pd.read_csv('911.csv')\n",
    "\n",
    "\n",
    "print(df.head())\n",
    "print(df.info())"
   ]
  },
  {
   "cell_type": "markdown",
   "id": "6c6dcc1a",
   "metadata": {},
   "source": [
    "The head() method shows that there the data contains the exact longitutde and latitude of the 911 calls, and the zip codes have some values that are NaN. The inf() method shows that the timestamp is labelled as an object, and that there are an imbalanced amount of entries in the columns."
   ]
  },
  {
   "cell_type": "code",
   "execution_count": 5,
   "id": "7c5ba659",
   "metadata": {},
   "outputs": [
    {
     "name": "stdout",
     "output_type": "stream",
     "text": [
      "19401.0    6979\n",
      "19464.0    6643\n",
      "19403.0    4854\n",
      "19446.0    4748\n",
      "19406.0    3174\n",
      "Name: zip, dtype: int64\n",
      "LOWER MERION    8443\n",
      "ABINGTON        5977\n",
      "NORRISTOWN      5890\n",
      "UPPER MERION    5227\n",
      "CHELTENHAM      4575\n",
      "Name: twp, dtype: int64\n"
     ]
    }
   ],
   "source": [
    "print(df[\"zip\"].value_counts().head())\n",
    "print(df[\"twp\"].value_counts().head())"
   ]
  },
  {
   "cell_type": "markdown",
   "id": "f419161e",
   "metadata": {},
   "source": [
    "This code shows the top 5 zipcodes, followed by the top 5 townships where 911 calls occured using value_counts()."
   ]
  },
  {
   "cell_type": "code",
   "execution_count": 6,
   "id": "743875da",
   "metadata": {},
   "outputs": [
    {
     "name": "stdout",
     "output_type": "stream",
     "text": [
      "110\n"
     ]
    }
   ],
   "source": [
    "print(df[\"title\"].nunique())"
   ]
  },
  {
   "cell_type": "markdown",
   "id": "877124ba",
   "metadata": {},
   "source": [
    "There are 110 unique 911 calls. \n",
    "Interestingly, in the titles column there are \"Reasons/Departments\" specified before the title code. "
   ]
  },
  {
   "cell_type": "code",
   "execution_count": 9,
   "id": "97155391",
   "metadata": {},
   "outputs": [
    {
     "name": "stdout",
     "output_type": "stream",
     "text": [
      "0        EMS\n",
      "1        EMS\n",
      "2       Fire\n",
      "3        EMS\n",
      "4        EMS\n",
      "5        EMS\n",
      "6        EMS\n",
      "7        EMS\n",
      "8        EMS\n",
      "9    Traffic\n",
      "Name: reason, dtype: object\n",
      "['EMS' 'Fire' 'Traffic']\n"
     ]
    }
   ],
   "source": [
    "df[\"reason\"] = df[\"title\"].apply(lambda x: x.split()[0])\n",
    "df['reason'] = df['reason'].str.replace (':', '')\n",
    "print(df[\"reason\"].head(10))\n",
    "print(df[\"reason\"].nique())\n",
    "print(df[\"reason\"].unique())"
   ]
  },
  {
   "cell_type": "markdown",
   "id": "a314ea67",
   "metadata": {},
   "source": [
    "Used .apply() with a custom lambda expression to create a new column called \"Reason\" that contains the string value of reason. \n",
    "The nunique() and unique() method indicates that there are 3 main reasons for 911 calls (Fire, EMS, Traffic)."
   ]
  },
  {
   "cell_type": "code",
   "execution_count": 11,
   "id": "3f235f2f",
   "metadata": {},
   "outputs": [
    {
     "name": "stdout",
     "output_type": "stream",
     "text": [
      "EMS        48877\n",
      "Traffic    35695\n",
      "Fire       14920\n",
      "Name: reason, dtype: int64\n"
     ]
    },
    {
     "data": {
      "image/png": "[encoded data removed]",
      "text/plain": [
       "<Figure size 432x288 with 1 Axes>"
      ]
     },
     "metadata": {
      "needs_background": "light"
     },
     "output_type": "display_data"
    }
   ],
   "source": [
    "print(df[\"reason\"].value_counts())\n",
    "sns.countplot(data=df,x=\"reason\")\n",
    "plt.show()"
   ]
  },
  {
   "cell_type": "markdown",
   "id": "ccd7de89",
   "metadata": {},
   "source": [
    "The main reason for a 911 call is for EMS."
   ]
  },
  {
   "cell_type": "code",
   "execution_count": 12,
   "id": "b1b68c71",
   "metadata": {},
   "outputs": [
    {
     "name": "stdout",
     "output_type": "stream",
     "text": [
      "<class 'pandas._libs.tslibs.timestamps.Timestamp'>\n",
      "17\n"
     ]
    }
   ],
   "source": [
    "df['timeStamp'] = pd.to_datetime(df['timeStamp'])\n",
    "print(type(df['timeStamp'][0]))\n",
    "time = df['timeStamp'].iloc[0]\n",
    "print(time.hour)"
   ]
  },
  {
   "cell_type": "markdown",
   "id": "01a45731",
   "metadata": {},
   "source": [
    "Used the pd.to_datetime() method to convert the column from strings to DateTime objects"
   ]
  },
  {
   "cell_type": "code",
   "execution_count": 13,
   "id": "5629110e",
   "metadata": {},
   "outputs": [
    {
     "name": "stdout",
     "output_type": "stream",
     "text": [
      "0    17\n",
      "1    17\n",
      "2    17\n",
      "3    17\n",
      "4    17\n",
      "Name: Hour, dtype: int64\n",
      "0    12\n",
      "1    12\n",
      "2    12\n",
      "3    12\n",
      "4    12\n",
      "Name: Month, dtype: int64\n",
      "0    Thursday\n",
      "1    Thursday\n",
      "2    Thursday\n",
      "3    Thursday\n",
      "4    Thursday\n",
      "Name: Day, dtype: object\n"
     ]
    }
   ],
   "source": [
    "df[\"Hour\"] = df[\"timeStamp\"].apply(lambda x: x.hour)\n",
    "print(df['Hour'].head())\n",
    "df[\"Month\"] = df[\"timeStamp\"].apply(lambda x: x.month)\n",
    "print(df['Month'].head())\n",
    "df['Day'] = df[\"timeStamp\"].dt.day_name()\n",
    "print(df['Day'].head())"
   ]
  },
  {
   "cell_type": "markdown",
   "id": "f5c3b167",
   "metadata": {},
   "source": [
    "Used .apply() to create 3 new columns called Hour, Month, and Day of Week based off of the timeStamp column."
   ]
  },
  {
   "cell_type": "code",
   "execution_count": 14,
   "id": "2af640a3",
   "metadata": {},
   "outputs": [],
   "source": [
    "df['Day'] = df[\"timeStamp\"].apply(lambda x: x.dayofweek)\n",
    "dmap = {0: 'Mon', 1: 'Tue', 2: 'Wed', 3: 'Thu', 4: 'Fri', 5: 'Sat', 6: 'Sun'}\n",
    "df['Day'] = df['Day'].map(dmap)"
   ]
  },
  {
   "cell_type": "code",
   "execution_count": null,
   "id": "3f8c2ae1",
   "metadata": {},
   "outputs": [],
   "source": [
    "Renames the day of the week by its abbreviation."
   ]
  },
  {
   "cell_type": "code",
   "execution_count": 15,
   "id": "254deb5b",
   "metadata": {},
   "outputs": [
    {
     "data": {
      "image/png": "[encoded data removed]",
      "text/plain": [
       "<Figure size 432x288 with 1 Axes>"
      ]
     },
     "metadata": {
      "needs_background": "light"
     },
     "output_type": "display_data"
    }
   ],
   "source": [
    "sns.countplot(data=df,x=\"Day\",hue=\"reason\")\n",
    "plt.legend(loc='center left', bbox_to_anchor=(1, 0.87))\n",
    "plt.show()"
   ]
  },
  {
   "cell_type": "markdown",
   "id": "9af6decb",
   "metadata": {},
   "source": [
    "Countplot of the Day of Week column with the hue based off of the Reason column.\n",
    "The countplot shows that the \"Traffic\" reason for calling 911 is the lowest on Sunday and that the \"EMS\" and \"Fire\" reasons are steady throughout the week with a small decrease in the amount of 911 calls for EMS on SUndays."
   ]
  },
  {
   "cell_type": "code",
   "execution_count": 17,
   "id": "5e7c16b0",
   "metadata": {},
   "outputs": [
    {
     "name": "stdout",
     "output_type": "stream",
     "text": [
      "         lat    lng   desc    zip  title  timeStamp    twp   addr      e  \\\n",
      "Month                                                                      \n",
      "1      13205  13205  13205  11527  13205      13205  13203  13096  13205   \n",
      "2      11467  11467  11467   9930  11467      11467  11465  11396  11467   \n",
      "3      11101  11101  11101   9755  11101      11101  11092  11059  11101   \n",
      "4      11326  11326  11326   9895  11326      11326  11323  11283  11326   \n",
      "5      11423  11423  11423   9946  11423      11423  11420  11378  11423   \n",
      "\n",
      "       reason   Hour    Day  \n",
      "Month                        \n",
      "1       13205  13205  13205  \n",
      "2       11467  11467  11467  \n",
      "3       11101  11101  11101  \n",
      "4       11326  11326  11326  \n",
      "5       11423  11423  11423  \n"
     ]
    }
   ],
   "source": [
    "byMonth = df.groupby(\"Month\").count()\n",
    "print(byMonth.head())"
   ]
  },
  {
   "cell_type": "markdown",
   "id": "ee09395d",
   "metadata": {},
   "source": [
    "The code creates a groupby object called byMonth, where the DataFrame is grouped by the month column and the count() method \n",
    "is used for aggregation.\n",
    "Some columns have a different count than other columns because in some cells, there are some values that are missing. "
   ]
  },
  {
   "cell_type": "code",
   "execution_count": 18,
   "id": "1e20deaf",
   "metadata": {},
   "outputs": [
    {
     "data": {
      "image/png": "[encoded data removed]",
      "text/plain": [
       "<Figure size 432x288 with 1 Axes>"
      ]
     },
     "metadata": {
      "needs_background": "light"
     },
     "output_type": "display_data"
    }
   ],
   "source": [
    "sns.lineplot(data=byMonth,x=\"Month\",y=\"lat\",color='red')\n",
    "plt.grid()\n",
    "plt.ylabel(\"\")\n",
    "plt.ylim(7000,14000)\n",
    "plt.xlim(0,12)\n",
    "plt.show()"
   ]
  },
  {
   "cell_type": "markdown",
   "id": "23e15055",
   "metadata": {},
   "source": [
    "Used the latitude column for the y axis, because if there was a latitude for the call it means that the call took place. \n",
    "The count plot shows a steady decrease in the amount of 911 calls from january to decemeber, with a small increase from march to July."
   ]
  },
  {
   "cell_type": "code",
   "execution_count": 19,
   "id": "2a1e7d65",
   "metadata": {},
   "outputs": [
    {
     "data": {
      "image/png": "[encoded data removed]",
      "text/plain": [
       "<Figure size 360x360 with 1 Axes>"
      ]
     },
     "metadata": {},
     "output_type": "display_data"
    }
   ],
   "source": [
    "byMonth=byMonth.reset_index()\n",
    "\n",
    "sns.set(style=\"white\", color_codes=True)\n",
    "sns.lmplot(x=\"Month\",y=\"twp\",data=byMonth,truncate=False)\n",
    "plt.grid()\n",
    "plt.ylabel(\"\")\n",
    "plt.xlim(0,14)\n",
    "plt.ylim(6000,15000)\n",
    "plt.show()"
   ]
  },
  {
   "cell_type": "markdown",
   "id": "f96ed243",
   "metadata": {},
   "source": [
    "Faded areas represents the errors, and the line further proves the point that the amount of 911 calls decreased from January to December."
   ]
  },
  {
   "cell_type": "code",
   "execution_count": 25,
   "id": "5b06955b",
   "metadata": {
    "scrolled": true
   },
   "outputs": [
    {
     "name": "stdout",
     "output_type": "stream",
     "text": [
      "Hour   0    1    2    3    4    5    6    7    8    9   ...   14   15    16  \\\n",
      "Day                                                     ...                   \n",
      "Fri   275  235  191  175  201  194  372  598  742  752  ...  932  980  1039   \n",
      "Mon   282  221  201  194  204  267  397  653  819  786  ...  869  913   989   \n",
      "Sat   375  301  263  260  224  231  257  391  459  640  ...  789  796   848   \n",
      "Sun   383  306  286  268  242  240  300  402  483  620  ...  684  691   663   \n",
      "Thu   278  202  233  159  182  203  362  570  777  828  ...  876  969   935   \n",
      "Tue   269  240  186  170  209  239  415  655  889  880  ...  943  938  1026   \n",
      "Wed   250  216  189  209  156  255  410  701  875  808  ...  904  867   990   \n",
      "\n",
      "Hour    17   18   19   20   21   22   23  \n",
      "Day                                       \n",
      "Fri    980  820  696  667  559  514  474  \n",
      "Mon    997  885  746  613  497  472  325  \n",
      "Sat    757  778  696  628  572  506  467  \n",
      "Sun    714  670  655  537  461  415  330  \n",
      "Thu   1013  810  698  617  553  424  354  \n",
      "Tue   1019  905  731  647  571  462  274  \n",
      "Wed   1037  894  686  668  575  490  335  \n",
      "\n",
      "[7 rows x 24 columns]\n"
     ]
    }
   ],
   "source": [
    "matrix1= df.groupby(by=['Day','Hour']).count()['reason'].unstack()\n",
    "print(matrix1)"
   ]
  },
  {
   "cell_type": "markdown",
   "id": "53428877",
   "metadata": {},
   "source": [
    "Restructures the dataframe so that the columns become the Hours and the Index becomes the Day of the Week.\n",
    "This allows the data to be plotted with a matrix."
   ]
  },
  {
   "cell_type": "code",
   "execution_count": 27,
   "id": "3f2fe9b5",
   "metadata": {},
   "outputs": [
    {
     "data": {
      "image/png": "[encoded data removed]",
      "text/plain": [
       "<Figure size 432x288 with 2 Axes>"
      ]
     },
     "metadata": {},
     "output_type": "display_data"
    }
   ],
   "source": [
    "matrix1= df.groupby(by=['Day','Month']).count()['reason'].unstack()\n",
    "sns.heatmap(matrix1,cmap='coolwarm')\n",
    "plt.show()"
   ]
  },
  {
   "cell_type": "markdown",
   "id": "9fa48f3a",
   "metadata": {},
   "source": [
    "The Matrix demonstrates that the Saturdays of January had the most 911 calls and the the Sundays of December had the \n",
    "least amont of 911 calls."
   ]
  }
 ],
 "metadata": {
  "kernelspec": {
   "display_name": "Python 3",
   "language": "python",
   "name": "python3"
  },
  "language_info": {
   "codemirror_mode": {
    "name": "ipython",
    "version": 3
   },
   "file_extension": ".py",
   "mimetype": "text/x-python",
   "name": "python",
   "nbconvert_exporter": "python",
   "pygments_lexer": "ipython3",
   "version": "3.8.8"
  }
 },
 "nbformat": 4,
 "nbformat_minor": 5
}
