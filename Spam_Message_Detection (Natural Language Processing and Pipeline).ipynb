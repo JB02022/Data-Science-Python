{
 "cells": [
  {
   "cell_type": "markdown",
   "id": "85cae18e",
   "metadata": {},
   "source": [
    "In this project, I use the SMS Spam Collection Data set which contains 5000 SMS phone messages.\n",
    "\n",
    "The codes is followed by a description."
   ]
  },
  {
   "cell_type": "code",
   "execution_count": 38,
   "id": "0760be0b",
   "metadata": {},
   "outputs": [
    {
     "name": "stdout",
     "output_type": "stream",
     "text": [
      "NLTK Downloader\n",
      "---------------------------------------------------------------------------\n",
      "    d) Download   l) List    u) Update   c) Config   h) Help   q) Quit\n",
      "---------------------------------------------------------------------------\n",
      "Downloader> d\n",
      "\n",
      "Download which package (l=list; x=cancel)?\n",
      "  Identifier> stopwords\n"
     ]
    },
    {
     "name": "stderr",
     "output_type": "stream",
     "text": [
      "    Downloading package stopwords to\n",
      "        C:\\Users\\julie\\AppData\\Roaming\\nltk_data...\n",
      "      Package stopwords is already up-to-date!\n"
     ]
    },
    {
     "name": "stdout",
     "output_type": "stream",
     "text": [
      "\n",
      "---------------------------------------------------------------------------\n",
      "    d) Download   l) List    u) Update   c) Config   h) Help   q) Quit\n",
      "---------------------------------------------------------------------------\n",
      "Downloader> q\n"
     ]
    }
   ],
   "source": [
    "import nltk\n",
    "nltk.download_shell()"
   ]
  },
  {
   "cell_type": "markdown",
   "id": "85e7e8e7",
   "metadata": {},
   "source": [
    "Used the nltk.download_shell() to download the stopwords package."
   ]
  },
  {
   "cell_type": "code",
   "execution_count": 39,
   "id": "ae737031",
   "metadata": {},
   "outputs": [
    {
     "name": "stdout",
     "output_type": "stream",
     "text": [
      "5574\n"
     ]
    }
   ],
   "source": [
    "import pandas as pd\n",
    "import os\n",
    "pd.set_option('display.max_columns',20)\n",
    "os.chdir(\"C:\\\\users\\julie\\pJupyterProjects\\Data Science\")\n",
    "\n",
    "messages = [line.rstrip() for line in open('SMSSpamCollection')]         \n",
    "print(len(messages))"
   ]
  },
  {
   "cell_type": "markdown",
   "id": "9873ee75",
   "metadata": {},
   "source": [
    "Opens file called 'SMSSpamCollection' in a variable called messages. Also removes all whitespace on the right side of the messages."
   ]
  },
  {
   "cell_type": "code",
   "execution_count": 40,
   "id": "60fa8223",
   "metadata": {},
   "outputs": [
    {
     "name": "stdout",
     "output_type": "stream",
     "text": [
      "0 ham\tGo until jurong point, crazy.. Available only in bugis n great world la e buffet... Cine there got amore wat...\n",
      "\n",
      "\n",
      "1 ham\tOk lar... Joking wif u oni...\n",
      "\n",
      "\n",
      "2 spam\tFree entry in 2 a wkly comp to win FA Cup final tkts 21st May 2005. Text FA to 87121 to receive entry question(std txt rate)T&C's apply 08452810075over18's\n",
      "\n",
      "\n",
      "3 ham\tU dun say so early hor... U c already then say...\n",
      "\n",
      "\n",
      "4 ham\tNah I don't think he goes to usf, he lives around here though\n",
      "\n",
      "\n",
      "5 spam\tFreeMsg Hey there darling it's been 3 week's now and no word back! I'd like some fun you up for it still? Tb ok! XxX std chgs to send, Â£1.50 to rcv\n",
      "\n",
      "\n",
      "6 ham\tEven my brother is not like to speak with me. They treat me like aids patent.\n",
      "\n",
      "\n",
      "7 ham\tAs per your request 'Melle Melle (Oru Minnaminunginte Nurungu Vettam)' has been set as your callertune for all Callers. Press *9 to copy your friends Callertune\n",
      "\n",
      "\n",
      "8 spam\tWINNER!! As a valued network customer you have been selected to receivea Â£900 prize reward! To claim call 09061701461. Claim code KL341. Valid 12 hours only.\n",
      "\n",
      "\n",
      "9 spam\tHad your mobile 11 months or more? U R entitled to Update to the latest colour mobiles with camera for Free! Call The Mobile Update Co FREE on 08002986030\n",
      "\n",
      "\n"
     ]
    }
   ],
   "source": [
    "for a,b in enumerate(messages[:10]):\n",
    "    print(a,b)\n",
    "    print('\\n')"
   ]
  },
  {
   "cell_type": "markdown",
   "id": "a19da0ea",
   "metadata": {},
   "source": [
    "In just the first 10 messages, there are many SPAMS."
   ]
  },
  {
   "cell_type": "code",
   "execution_count": 41,
   "id": "e0881b52",
   "metadata": {},
   "outputs": [
    {
     "name": "stdout",
     "output_type": "stream",
     "text": [
      "  label                                            message\n",
      "0   ham  Go until jurong point, crazy.. Available only ...\n",
      "1   ham                      Ok lar... Joking wif u oni...\n",
      "2  spam  Free entry in 2 a wkly comp to win FA Cup fina...\n",
      "3   ham  U dun say so early hor... U c already then say...\n",
      "4   ham  Nah I don't think he goes to usf, he lives aro...\n"
     ]
    }
   ],
   "source": [
    "messages = pd.read_csv('SMSSpamCollection',sep='\\t',names=['label','message'])\n",
    "print(messages.head())"
   ]
  },
  {
   "cell_type": "markdown",
   "id": "03fbc647",
   "metadata": {},
   "source": [
    "Modifies the variable messages in to a DataFrame, where what separates the columns are the tabs in those messages. names= \n",
    "creates the name for these columns (we know that there are 2). Index is automatically created."
   ]
  },
  {
   "cell_type": "code",
   "execution_count": 42,
   "id": "43e37dce",
   "metadata": {},
   "outputs": [
    {
     "name": "stdout",
     "output_type": "stream",
     "text": [
      "      message                                                               \n",
      "        count unique                                                top freq\n",
      "label                                                                       \n",
      "ham      4825   4516                             Sorry, I'll call later   30\n",
      "spam      747    653  Please call our customer service representativ...    4\n"
     ]
    }
   ],
   "source": [
    "print(messages.groupby('label').describe())"
   ]
  },
  {
   "cell_type": "markdown",
   "id": "ee10c05f",
   "metadata": {},
   "source": [
    "We can groupby label to analyse the differences between messages from Ham and Spam. "
   ]
  },
  {
   "cell_type": "code",
   "execution_count": 69,
   "id": "fa3b9567",
   "metadata": {},
   "outputs": [
    {
     "data": {
      "image/png": "[encoded data removed]",
      "text/plain": [
       "<Figure size 432x288 with 1 Axes>"
      ]
     },
     "metadata": {
      "needs_background": "light"
     },
     "output_type": "display_data"
    }
   ],
   "source": [
    "import seaborn as sns\n",
    "import matplotlib.pyplot as plt\n",
    "\n",
    "messages['length']=messages['message'].apply(len)\n",
    "sns.distplot(messages['length'],color='b',bins=150,hist_kws=dict(edgecolor=\"k\"),kde=False)\n",
    "plt.show()"
   ]
  },
  {
   "cell_type": "markdown",
   "id": "7bef0925",
   "metadata": {},
   "source": [
    "Created another column that contains the length of each messages.\n",
    "\n",
    "The figures hows a somewhat bimodal distribution where for very short messages, the count is high, and for messages that are more or less lengthy for a message (180 words), the count is also high. The graph also shows that there are some really long text messages."
   ]
  },
  {
   "cell_type": "code",
   "execution_count": 44,
   "id": "e88c0163",
   "metadata": {},
   "outputs": [
    {
     "name": "stdout",
     "output_type": "stream",
     "text": [
      "            length\n",
      "count  5572.000000\n",
      "mean     80.489950\n",
      "std      59.942907\n",
      "min       2.000000\n",
      "25%      36.000000\n",
      "50%      62.000000\n",
      "75%     122.000000\n",
      "max     910.000000\n",
      "     label                                            message  length\n",
      "1085   ham  For me the love should start with attraction.i...     910\n",
      "For me the love should start with attraction.i should feel that I need her every time around me.she should be the first thing which comes in my thoughts.I would start the day and end it with her.she should be there every time I dream.love will be then when my every breath has her name.my life should happen around her.my life will be named to her.I would cry for her.will give all my happiness and take all her sorrows.I will be ready to fight with anyone for her.I will be in love when I will be doing the craziest things for her.love will be when I don't have to proove anyone that my girl is the most beautiful lady on the whole planet.I will always be singing praises for her.love will be when I start up making chicken curry and end up makiing sambar.life will be the most beautiful then.will get every morning and thank god for the day because she is with me.I would like to say a lot..will tell later..\n"
     ]
    },
    {
     "data": {
      "image/png": "[encoded data removed]",
      "text/plain": [
       "<Figure size 864x288 with 2 Axes>"
      ]
     },
     "metadata": {
      "needs_background": "light"
     },
     "output_type": "display_data"
    }
   ],
   "source": [
    "print(messages.describe())\n",
    "print(messages[messages['length']==910])\n",
    "\n",
    "print(messages[messages['length']==910]['message'].iloc[0])\n",
    "\n",
    "messages.hist(column='length',by='label',bins=150 ,figsize=(12,4),ec='black')\n",
    "plt.show()"
   ]
  },
  {
   "cell_type": "markdown",
   "id": "bf03be90",
   "metadata": {},
   "source": [
    "The describe() method shows that longest message is 910 in length and that this message is a love letter.\n",
    "\n",
    "The figures show the length of each message by its label in different columns.\n",
    "Figure shows that the outliers (very long messages) are from ham.\n",
    "It also shows that on average, spam messages are longer."
   ]
  },
  {
   "cell_type": "code",
   "execution_count": 45,
   "id": "8ab17a77",
   "metadata": {},
   "outputs": [
    {
     "name": "stdout",
     "output_type": "stream",
     "text": [
      "!\"#$%&'()*+,-./:;<=>?@[\\]^_`{|}~\n"
     ]
    }
   ],
   "source": [
    "import string  \n",
    "print(string.punctuation)"
   ]
  },
  {
   "cell_type": "code",
   "execution_count": 46,
   "id": "2ac519c4",
   "metadata": {},
   "outputs": [],
   "source": [
    "from nltk.corpus import stopwords\n",
    "asddsa=stopwords.words(\"english\")\n",
    "\n",
    "def a(g):\n",
    "    k = [char for char in g if char not in string.punctuation]\n",
    "    k = ''.join(k)\n",
    "    return [l for l in k.split() if l.lower() not in asddsa]"
   ]
  },
  {
   "cell_type": "markdown",
   "id": "b1f5a98e",
   "metadata": {},
   "source": [
    "stopwords.words(\"english\") contains very common words that don't contain any distinguishing features.\n",
    "\n",
    "The a(g) function:\n",
    "    1. Removes all punctuation\n",
    "    2. Removes all stopwords\n",
    "    3. Returns a list of the cleaned text"
   ]
  },
  {
   "cell_type": "code",
   "execution_count": 50,
   "id": "dcfaf234",
   "metadata": {
    "scrolled": false
   },
   "outputs": [
    {
     "name": "stdout",
     "output_type": "stream",
     "text": [
      "0    [Go, jurong, point, crazy, Available, bugis, n...\n",
      "1                       [Ok, lar, Joking, wif, u, oni]\n",
      "2    [Free, entry, 2, wkly, comp, win, FA, Cup, fin...\n",
      "3        [U, dun, say, early, hor, U, c, already, say]\n",
      "4    [Nah, dont, think, goes, usf, lives, around, t...\n",
      "Name: message, dtype: object\n",
      "11425\n"
     ]
    }
   ],
   "source": [
    "from sklearn.feature_extraction.text import CountVectorizer\n",
    "\n",
    "print(messages['message'].head().apply(a))\n",
    "\n",
    "bow_transformer = CountVectorizer(analyzer=a).fit(messages['message'])        \n",
    "print(len(bow_transformer.vocabulary_))       "
   ]
  },
  {
   "cell_type": "markdown",
   "id": "11735865",
   "metadata": {},
   "source": [
    "Prints out the head of the messages DataFrame with the applied function.\n",
    "\n",
    "The code also creates a very large matrix. All the rows are words, and all the columns are every single messages.\n",
    "THere are 11,425 vocabularies. "
   ]
  },
  {
   "cell_type": "code",
   "execution_count": 52,
   "id": "52315fea",
   "metadata": {},
   "outputs": [
    {
     "name": "stdout",
     "output_type": "stream",
     "text": [
      "  (0, 4068)\t2\n",
      "  (0, 4629)\t1\n",
      "  (0, 5261)\t1\n",
      "  (0, 6204)\t1\n",
      "  (0, 6222)\t1\n",
      "  (0, 7186)\t1\n",
      "  (0, 9554)\t2\n"
     ]
    }
   ],
   "source": [
    "ha = messages['message'][3]\n",
    "bow4 = bow_transformer.transform([ha])\n",
    "print(bow4)"
   ]
  },
  {
   "cell_type": "markdown",
   "id": "c8723faa",
   "metadata": {},
   "source": [
    "The message at the third index contains 7 important words."
   ]
  },
  {
   "cell_type": "code",
   "execution_count": 54,
   "id": "d5e52a7d",
   "metadata": {},
   "outputs": [
    {
     "name": "stdout",
     "output_type": "stream",
     "text": [
      "(1, 11425)\n"
     ]
    }
   ],
   "source": [
    "print(bow4.shape)"
   ]
  },
  {
   "cell_type": "markdown",
   "id": "2df006da",
   "metadata": {},
   "source": [
    "The shape() method indicates that there is 1 column and 11426 rows (index 0 = row 1)."
   ]
  },
  {
   "cell_type": "code",
   "execution_count": 55,
   "id": "3465d584",
   "metadata": {},
   "outputs": [
    {
     "name": "stdout",
     "output_type": "stream",
     "text": [
      "(5572, 11425)\n"
     ]
    }
   ],
   "source": [
    "po = bow_transformer.transform(messages['message'])\n",
    "print(po.shape)"
   ]
  },
  {
   "cell_type": "markdown",
   "id": "34d2634b",
   "metadata": {},
   "source": [
    "Applies to all the transform on all messages"
   ]
  },
  {
   "cell_type": "code",
   "execution_count": 56,
   "id": "4faa48b9",
   "metadata": {},
   "outputs": [
    {
     "name": "stdout",
     "output_type": "stream",
     "text": [
      "50548\n"
     ]
    }
   ],
   "source": [
    "print(po.nnz)"
   ]
  },
  {
   "cell_type": "markdown",
   "id": "884a982c",
   "metadata": {},
   "source": [
    "Prints the number of non-zero occurences"
   ]
  },
  {
   "cell_type": "code",
   "execution_count": 57,
   "id": "f653fcc6",
   "metadata": {},
   "outputs": [
    {
     "name": "stdout",
     "output_type": "stream",
     "text": [
      "sparsity: 0.07940295412668218\n"
     ]
    }
   ],
   "source": [
    "sparsity = (100.0 * po.nnz / (po.shape[0] * po.shape[1]))\n",
    "print('sparsity: {}'.format((sparsity)))"
   ]
  },
  {
   "cell_type": "markdown",
   "id": "5ca50b8f",
   "metadata": {},
   "source": [
    "Compares the number of non zero messages vs the total number of messages (how much zeroes there are in the matrix)."
   ]
  },
  {
   "cell_type": "code",
   "execution_count": 65,
   "id": "d39c4b5c",
   "metadata": {},
   "outputs": [
    {
     "name": "stdout",
     "output_type": "stream",
     "text": [
      "  (0, 9554)\t0.5385626262927564\n",
      "  (0, 7186)\t0.4389365653379857\n",
      "  (0, 6222)\t0.3187216892949149\n",
      "  (0, 6204)\t0.29953799723697416\n",
      "  (0, 5261)\t0.29729957405868723\n",
      "  (0, 4629)\t0.26619801906087187\n",
      "  (0, 4068)\t0.40832589933384067\n"
     ]
    }
   ],
   "source": [
    "from sklearn.feature_extraction.text import TfidfTransformer\n",
    "\n",
    "az = TfidfTransformer().fit(po)\n",
    "ac = az.transform(bow4)\n",
    "azc = az.transform(po)\n",
    "print(ac)"
   ]
  },
  {
   "cell_type": "markdown",
   "id": "4debe41a",
   "metadata": {},
   "source": [
    "Prints the inverse document frequency and term frequency relationship for the particular message.\n",
    "The numbers are a weight values for each of these words."
   ]
  },
  {
   "cell_type": "code",
   "execution_count": 67,
   "id": "c7a7589c",
   "metadata": {},
   "outputs": [
    {
     "name": "stdout",
     "output_type": "stream",
     "text": [
      "ham\n",
      "['ham' 'ham' 'spam' ... 'ham' 'ham' 'ham']\n"
     ]
    }
   ],
   "source": [
    "from sklearn.naive_bayes import MultinomialNB\n",
    "\n",
    "spam_detect_model = MultinomialNB().fit(azc,messages['label'])\n",
    "print(spam_detect_model.predict(ac)[0])\n",
    "\n",
    "\n",
    "all_pred = spam_detect_model.predict(azc)\n",
    "print(all_pred)"
   ]
  },
  {
   "cell_type": "markdown",
   "id": "da3f1c73",
   "metadata": {},
   "source": [
    "This model predicts Ham vs SPAM classification. "
   ]
  },
  {
   "cell_type": "code",
   "execution_count": 63,
   "id": "2b79d035",
   "metadata": {},
   "outputs": [
    {
     "name": "stdout",
     "output_type": "stream",
     "text": [
      "              precision    recall  f1-score   support\n",
      "\n",
      "         ham       0.95      1.00      0.98      1444\n",
      "        spam       1.00      0.69      0.82       228\n",
      "\n",
      "    accuracy                           0.96      1672\n",
      "   macro avg       0.98      0.85      0.90      1672\n",
      "weighted avg       0.96      0.96      0.95      1672\n",
      "\n",
      "[[1444    0]\n",
      " [  70  158]]\n"
     ]
    }
   ],
   "source": [
    "from sklearn.pipeline import Pipeline\n",
    "from sklearn.metrics import classification_report,confusion_matrix\n",
    "from sklearn.model_selection import train_test_split\n",
    "\n",
    "msg_train,msg_test,label_train,label_test=train_test_split(messages['message'],messages['label'],test_size=0.3)\n",
    " \n",
    "pipeline = Pipeline([('bows',CountVectorizer(analyzer=a)),\n",
    "                     ('tfidf',TfidfTransformer()),\n",
    "                     ('classifier',MultinomialNB())])           \n",
    "\n",
    "pipeline.fit(msg_train,label_train)      \n",
    "predictions = pipeline.predict(msg_test)\n",
    "\n",
    "print(classification_report(label_test,predictions))\n",
    "print(confusion_matrix(label_test,predictions))\n"
   ]
  },
  {
   "cell_type": "markdown",
   "id": "b6fc3ae4",
   "metadata": {},
   "source": [
    "The classification report indicates that the model\n",
    "\n",
    "We can summarize all the steps into a pipeline so that we don't have to constantly repeat everything for different sets of data.\n",
    "We can also use a RandomForest Classifier"
   ]
  },
  {
   "cell_type": "code",
   "execution_count": 64,
   "id": "c7161b9d",
   "metadata": {},
   "outputs": [
    {
     "name": "stdout",
     "output_type": "stream",
     "text": [
      "              precision    recall  f1-score   support\n",
      "\n",
      "         ham       0.97      1.00      0.99      1444\n",
      "        spam       1.00      0.82      0.90       228\n",
      "\n",
      "    accuracy                           0.98      1672\n",
      "   macro avg       0.99      0.91      0.94      1672\n",
      "weighted avg       0.98      0.98      0.97      1672\n",
      "\n",
      "[[1444    0]\n",
      " [  41  187]]\n"
     ]
    }
   ],
   "source": [
    "from sklearn.ensemble import RandomForestClassifier\n",
    "\n",
    "pipeline = Pipeline([('bows',CountVectorizer(analyzer=a)),\n",
    "                     ('tfidf',TfidfTransformer()),\n",
    "                     ('classifier',RandomForestClassifier())])            \n",
    "pipeline.fit(msg_train,label_train)      \n",
    "predictions = pipeline.predict(msg_test)\n",
    "print(classification_report(label_test,predictions))\n",
    "print(confusion_matrix(label_test,predictions))"
   ]
  },
  {
   "cell_type": "code",
   "execution_count": null,
   "id": "07c8697e",
   "metadata": {},
   "outputs": [],
   "source": [
    "The random forest classifier performed slightly better than the MultinomialNB."
   ]
  }
 ],
 "metadata": {
  "kernelspec": {
   "display_name": "Python 3",
   "language": "python",
   "name": "python3"
  },
  "language_info": {
   "codemirror_mode": {
    "name": "ipython",
    "version": 3
   },
   "file_extension": ".py",
   "mimetype": "text/x-python",
   "name": "python",
   "nbconvert_exporter": "python",
   "pygments_lexer": "ipython3",
   "version": "3.8.8"
  }
 },
 "nbformat": 4,
 "nbformat_minor": 5
}
