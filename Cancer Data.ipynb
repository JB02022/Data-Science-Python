{
 "cells": [
  {
   "cell_type": "markdown",
   "id": "5cb32014",
   "metadata": {},
   "source": [
    "Cancer Project (Malign vs Benign)"
   ]
  },
  {
   "cell_type": "markdown",
   "id": "2d159c09",
   "metadata": {},
   "source": [
    "In this project, I created a neural network model that can predict whether a tumor is malign or benign based on the many different variables that were added in the dataset.\n",
    "The format for this project is as follow:\n",
    "    1. EDA\n",
    "    2. Creating the model\n",
    "    3. Evaluating the model\n",
    "    \n",
    "Note: Code is followed by a description. "
   ]
  },
  {
   "cell_type": "code",
   "execution_count": 6,
   "id": "1546cd46",
   "metadata": {},
   "outputs": [
    {
     "name": "stdout",
     "output_type": "stream",
     "text": [
      "<bound method NDFrame.head of      mean radius  mean texture  mean perimeter  mean area  mean smoothness  \\\n",
      "0          17.99         10.38          122.80     1001.0          0.11840   \n",
      "1          20.57         17.77          132.90     1326.0          0.08474   \n",
      "2          19.69         21.25          130.00     1203.0          0.10960   \n",
      "3          11.42         20.38           77.58      386.1          0.14250   \n",
      "4          20.29         14.34          135.10     1297.0          0.10030   \n",
      "..           ...           ...             ...        ...              ...   \n",
      "564        21.56         22.39          142.00     1479.0          0.11100   \n",
      "565        20.13         28.25          131.20     1261.0          0.09780   \n",
      "566        16.60         28.08          108.30      858.1          0.08455   \n",
      "567        20.60         29.33          140.10     1265.0          0.11780   \n",
      "568         7.76         24.54           47.92      181.0          0.05263   \n",
      "\n",
      "     mean compactness  mean concavity  mean concave points  mean symmetry  \\\n",
      "0             0.27760         0.30010              0.14710         0.2419   \n",
      "1             0.07864         0.08690              0.07017         0.1812   \n",
      "2             0.15990         0.19740              0.12790         0.2069   \n",
      "3             0.28390         0.24140              0.10520         0.2597   \n",
      "4             0.13280         0.19800              0.10430         0.1809   \n",
      "..                ...             ...                  ...            ...   \n",
      "564           0.11590         0.24390              0.13890         0.1726   \n",
      "565           0.10340         0.14400              0.09791         0.1752   \n",
      "566           0.10230         0.09251              0.05302         0.1590   \n",
      "567           0.27700         0.35140              0.15200         0.2397   \n",
      "568           0.04362         0.00000              0.00000         0.1587   \n",
      "\n",
      "     mean fractal dimension  ...  worst texture  worst perimeter  worst area  \\\n",
      "0                   0.07871  ...          17.33           184.60      2019.0   \n",
      "1                   0.05667  ...          23.41           158.80      1956.0   \n",
      "2                   0.05999  ...          25.53           152.50      1709.0   \n",
      "3                   0.09744  ...          26.50            98.87       567.7   \n",
      "4                   0.05883  ...          16.67           152.20      1575.0   \n",
      "..                      ...  ...            ...              ...         ...   \n",
      "564                 0.05623  ...          26.40           166.10      2027.0   \n",
      "565                 0.05533  ...          38.25           155.00      1731.0   \n",
      "566                 0.05648  ...          34.12           126.70      1124.0   \n",
      "567                 0.07016  ...          39.42           184.60      1821.0   \n",
      "568                 0.05884  ...          30.37            59.16       268.6   \n",
      "\n",
      "     worst smoothness  worst compactness  worst concavity  \\\n",
      "0             0.16220            0.66560           0.7119   \n",
      "1             0.12380            0.18660           0.2416   \n",
      "2             0.14440            0.42450           0.4504   \n",
      "3             0.20980            0.86630           0.6869   \n",
      "4             0.13740            0.20500           0.4000   \n",
      "..                ...                ...              ...   \n",
      "564           0.14100            0.21130           0.4107   \n",
      "565           0.11660            0.19220           0.3215   \n",
      "566           0.11390            0.30940           0.3403   \n",
      "567           0.16500            0.86810           0.9387   \n",
      "568           0.08996            0.06444           0.0000   \n",
      "\n",
      "     worst concave points  worst symmetry  worst fractal dimension  \\\n",
      "0                  0.2654          0.4601                  0.11890   \n",
      "1                  0.1860          0.2750                  0.08902   \n",
      "2                  0.2430          0.3613                  0.08758   \n",
      "3                  0.2575          0.6638                  0.17300   \n",
      "4                  0.1625          0.2364                  0.07678   \n",
      "..                    ...             ...                      ...   \n",
      "564                0.2216          0.2060                  0.07115   \n",
      "565                0.1628          0.2572                  0.06637   \n",
      "566                0.1418          0.2218                  0.07820   \n",
      "567                0.2650          0.4087                  0.12400   \n",
      "568                0.0000          0.2871                  0.07039   \n",
      "\n",
      "     benign_0__mal_1  \n",
      "0                  0  \n",
      "1                  0  \n",
      "2                  0  \n",
      "3                  0  \n",
      "4                  0  \n",
      "..               ...  \n",
      "564                0  \n",
      "565                0  \n",
      "566                0  \n",
      "567                0  \n",
      "568                1  \n",
      "\n",
      "[569 rows x 31 columns]>\n",
      "<class 'pandas.core.frame.DataFrame'>\n",
      "RangeIndex: 569 entries, 0 to 568\n",
      "Data columns (total 31 columns):\n",
      " #   Column                   Non-Null Count  Dtype  \n",
      "---  ------                   --------------  -----  \n",
      " 0   mean radius              569 non-null    float64\n",
      " 1   mean texture             569 non-null    float64\n",
      " 2   mean perimeter           569 non-null    float64\n",
      " 3   mean area                569 non-null    float64\n",
      " 4   mean smoothness          569 non-null    float64\n",
      " 5   mean compactness         569 non-null    float64\n",
      " 6   mean concavity           569 non-null    float64\n",
      " 7   mean concave points      569 non-null    float64\n",
      " 8   mean symmetry            569 non-null    float64\n",
      " 9   mean fractal dimension   569 non-null    float64\n",
      " 10  radius error             569 non-null    float64\n",
      " 11  texture error            569 non-null    float64\n",
      " 12  perimeter error          569 non-null    float64\n",
      " 13  area error               569 non-null    float64\n",
      " 14  smoothness error         569 non-null    float64\n",
      " 15  compactness error        569 non-null    float64\n",
      " 16  concavity error          569 non-null    float64\n",
      " 17  concave points error     569 non-null    float64\n",
      " 18  symmetry error           569 non-null    float64\n",
      " 19  fractal dimension error  569 non-null    float64\n",
      " 20  worst radius             569 non-null    float64\n",
      " 21  worst texture            569 non-null    float64\n",
      " 22  worst perimeter          569 non-null    float64\n",
      " 23  worst area               569 non-null    float64\n",
      " 24  worst smoothness         569 non-null    float64\n",
      " 25  worst compactness        569 non-null    float64\n",
      " 26  worst concavity          569 non-null    float64\n",
      " 27  worst concave points     569 non-null    float64\n",
      " 28  worst symmetry           569 non-null    float64\n",
      " 29  worst fractal dimension  569 non-null    float64\n",
      " 30  benign_0__mal_1          569 non-null    int64  \n",
      "dtypes: float64(30), int64(1)\n",
      "memory usage: 137.9 KB\n",
      "None\n"
     ]
    }
   ],
   "source": [
    "from sklearn.metrics import classification_report,confusion_matrix\n",
    "from sklearn.model_selection import train_test_split\n",
    "from sklearn.preprocessing import MinMaxScaler\n",
    "from tensorflow.keras.models import Sequential\n",
    "from tensorflow.keras.layers import Dense,Dropout\n",
    "from tensorflow.keras.models import load_model\n",
    "from tensorflow.keras.callbacks import EarlyStopping\n",
    "import pandas as pd\n",
    "import os\n",
    "import matplotlib.pyplot as plt\n",
    "import seaborn as sns\n",
    "pd.set_option('display.max_columns',20)\n",
    "os.chdir(\"C:\\\\users\\julie\\pJupyterProjects\\Data Science\")\n",
    "\n",
    "\n",
    "df = pd.read_csv('cancer_classification.csv')\n",
    "print(df.head)\n",
    "print(df.info())"
   ]
  },
  {
   "cell_type": "markdown",
   "id": "009a1161",
   "metadata": {},
   "source": [
    "The .info() method was used to find out how many entries there are (and whether the entries are the same amount for each columns), whether there are null values, and whether the values in each columns are properly represented by its corresponding Dtype.\n",
    "For this project, I was fortunate to have a dataset that did not need to be cleaned."
   ]
  },
  {
   "cell_type": "code",
   "execution_count": 4,
   "id": "a66a8a9c",
   "metadata": {},
   "outputs": [
    {
     "data": {
      "image/png": "[encoded data removed]",
      "text/plain": [
       "<Figure size 432x288 with 1 Axes>"
      ]
     },
     "metadata": {
      "needs_background": "light"
     },
     "output_type": "display_data"
    }
   ],
   "source": [
    "sns.countplot(data=df,x='benign_0__mal_1')        \n",
    "plt.show()"
   ]
  },
  {
   "cell_type": "markdown",
   "id": "bf2a5fb0",
   "metadata": {},
   "source": [
    "The figure shows that benign vs malignant is a little balanced (can definitely be used for data analysis since there is no extreme differences)."
   ]
  },
  {
   "cell_type": "code",
   "execution_count": 5,
   "id": "d85a0ad0",
   "metadata": {},
   "outputs": [
    {
     "data": {
      "image/png": "[encoded data removed]",
      "text/plain": [
       "<Figure size 432x288 with 1 Axes>"
      ]
     },
     "metadata": {
      "needs_background": "light"
     },
     "output_type": "display_data"
    }
   ],
   "source": [
    "df.corr()['benign_0__mal_1'][:-1].sort_values().plot(kind='bar')     \n",
    "plt.tight_layout()\n",
    "plt.show()\n"
   ]
  },
  {
   "cell_type": "markdown",
   "id": "41f1a5a1",
   "metadata": {},
   "source": [
    "This figure shows what is correlated with the benign vs malignant column. \n",
    "The[:-1] means that you want to plot everything but the last column (in this case, the last column represents malign and benign).\n",
    "Already, we can see that there are some variables that are strongly negatively correlated which indicates that we should get strong predictions.\n",
    "\n",
    "Time to create the model!"
   ]
  },
  {
   "cell_type": "code",
   "execution_count": 13,
   "id": "99677697",
   "metadata": {},
   "outputs": [],
   "source": [
    "X=df.drop('benign_0__mal_1',axis=1).values\n",
    "y=df['benign_0__mal_1'].values\n",
    "X_train,X_test,y_train,y_test=train_test_split(X,y,test_size=0.25)\n",
    "\n",
    "scaler = MinMaxScaler()\n",
    "X_train = scaler.fit_transform(X_train)         \n",
    "X_test = scaler.transform(X_test)"
   ]
  },
  {
   "cell_type": "markdown",
   "id": "24e84bea",
   "metadata": {},
   "source": [
    "Train-test splitting and scaling the data."
   ]
  },
  {
   "cell_type": "code",
   "execution_count": 14,
   "id": "7d95f6b4",
   "metadata": {},
   "outputs": [
    {
     "name": "stdout",
     "output_type": "stream",
     "text": [
      "Epoch 1/600\n",
      "14/14 [==============================] - 1s 11ms/step - loss: 0.7349 - val_loss: 0.6898\n",
      "Epoch 2/600\n",
      "14/14 [==============================] - 0s 3ms/step - loss: 0.7042 - val_loss: 0.6613\n",
      "Epoch 3/600\n",
      "14/14 [==============================] - 0s 3ms/step - loss: 0.6659 - val_loss: 0.6415\n",
      "Epoch 4/600\n",
      "14/14 [==============================] - 0s 3ms/step - loss: 0.6699 - val_loss: 0.6259\n",
      "Epoch 5/600\n",
      "14/14 [==============================] - 0s 3ms/step - loss: 0.6383 - val_loss: 0.6060\n",
      "Epoch 6/600\n",
      "14/14 [==============================] - 0s 3ms/step - loss: 0.6292 - val_loss: 0.5873\n",
      "Epoch 7/600\n",
      "14/14 [==============================] - 0s 3ms/step - loss: 0.5974 - val_loss: 0.5672\n",
      "Epoch 8/600\n",
      "14/14 [==============================] - 0s 3ms/step - loss: 0.5779 - val_loss: 0.5431\n",
      "Epoch 9/600\n",
      "14/14 [==============================] - 0s 3ms/step - loss: 0.5602 - val_loss: 0.5176\n",
      "Epoch 10/600\n",
      "14/14 [==============================] - 0s 3ms/step - loss: 0.5259 - val_loss: 0.4908\n",
      "Epoch 11/600\n",
      "14/14 [==============================] - 0s 3ms/step - loss: 0.4997 - val_loss: 0.4596\n",
      "Epoch 12/600\n",
      "14/14 [==============================] - 0s 3ms/step - loss: 0.4769 - val_loss: 0.4334\n",
      "Epoch 13/600\n",
      "14/14 [==============================] - 0s 3ms/step - loss: 0.4592 - val_loss: 0.4113\n",
      "Epoch 14/600\n",
      "14/14 [==============================] - 0s 3ms/step - loss: 0.4547 - val_loss: 0.3887\n",
      "Epoch 15/600\n",
      "14/14 [==============================] - 0s 3ms/step - loss: 0.4335 - val_loss: 0.3712\n",
      "Epoch 16/600\n",
      "14/14 [==============================] - 0s 3ms/step - loss: 0.4202 - val_loss: 0.3564\n",
      "Epoch 17/600\n",
      "14/14 [==============================] - 0s 3ms/step - loss: 0.4018 - val_loss: 0.3381\n",
      "Epoch 18/600\n",
      "14/14 [==============================] - 0s 3ms/step - loss: 0.3758 - val_loss: 0.3198\n",
      "Epoch 19/600\n",
      "14/14 [==============================] - 0s 3ms/step - loss: 0.3630 - val_loss: 0.3015\n",
      "Epoch 20/600\n",
      "14/14 [==============================] - 0s 3ms/step - loss: 0.3475 - val_loss: 0.2883\n",
      "Epoch 21/600\n",
      "14/14 [==============================] - 0s 3ms/step - loss: 0.3450 - val_loss: 0.2798\n",
      "Epoch 22/600\n",
      "14/14 [==============================] - 0s 3ms/step - loss: 0.3366 - val_loss: 0.2686\n",
      "Epoch 23/600\n",
      "14/14 [==============================] - 0s 4ms/step - loss: 0.3198 - val_loss: 0.2589\n",
      "Epoch 24/600\n",
      "14/14 [==============================] - 0s 4ms/step - loss: 0.3511 - val_loss: 0.2535\n",
      "Epoch 25/600\n",
      "14/14 [==============================] - 0s 4ms/step - loss: 0.2940 - val_loss: 0.2500\n",
      "Epoch 26/600\n",
      "14/14 [==============================] - 0s 4ms/step - loss: 0.3138 - val_loss: 0.2436\n",
      "Epoch 27/600\n",
      "14/14 [==============================] - 0s 4ms/step - loss: 0.2942 - val_loss: 0.2368\n",
      "Epoch 28/600\n",
      "14/14 [==============================] - 0s 3ms/step - loss: 0.2831 - val_loss: 0.2268\n",
      "Epoch 29/600\n",
      "14/14 [==============================] - 0s 3ms/step - loss: 0.2662 - val_loss: 0.2179\n",
      "Epoch 30/600\n",
      "14/14 [==============================] - 0s 3ms/step - loss: 0.2670 - val_loss: 0.2102\n",
      "Epoch 31/600\n",
      "14/14 [==============================] - 0s 3ms/step - loss: 0.2526 - val_loss: 0.2008\n",
      "Epoch 32/600\n",
      "14/14 [==============================] - 0s 3ms/step - loss: 0.2396 - val_loss: 0.1942\n",
      "Epoch 33/600\n",
      "14/14 [==============================] - 0s 3ms/step - loss: 0.2705 - val_loss: 0.1912\n",
      "Epoch 34/600\n",
      "14/14 [==============================] - 0s 3ms/step - loss: 0.2581 - val_loss: 0.1908\n",
      "Epoch 35/600\n",
      "14/14 [==============================] - 0s 4ms/step - loss: 0.2227 - val_loss: 0.1830\n",
      "Epoch 36/600\n",
      "14/14 [==============================] - 0s 4ms/step - loss: 0.2246 - val_loss: 0.1781\n",
      "Epoch 37/600\n",
      "14/14 [==============================] - 0s 3ms/step - loss: 0.2111 - val_loss: 0.1731\n",
      "Epoch 38/600\n",
      "14/14 [==============================] - 0s 3ms/step - loss: 0.2348 - val_loss: 0.1707\n",
      "Epoch 39/600\n",
      "14/14 [==============================] - 0s 3ms/step - loss: 0.2098 - val_loss: 0.1678\n",
      "Epoch 40/600\n",
      "14/14 [==============================] - 0s 4ms/step - loss: 0.2216 - val_loss: 0.1690\n",
      "Epoch 41/600\n",
      "14/14 [==============================] - 0s 4ms/step - loss: 0.2088 - val_loss: 0.1605\n",
      "Epoch 42/600\n",
      "14/14 [==============================] - 0s 4ms/step - loss: 0.2449 - val_loss: 0.1621\n",
      "Epoch 43/600\n",
      "14/14 [==============================] - 0s 4ms/step - loss: 0.2216 - val_loss: 0.1623\n",
      "Epoch 44/600\n",
      "14/14 [==============================] - 0s 4ms/step - loss: 0.2021 - val_loss: 0.1568\n",
      "Epoch 45/600\n",
      "14/14 [==============================] - 0s 3ms/step - loss: 0.2001 - val_loss: 0.1525\n",
      "Epoch 46/600\n",
      "14/14 [==============================] - 0s 3ms/step - loss: 0.2070 - val_loss: 0.1532\n",
      "Epoch 47/600\n",
      "14/14 [==============================] - 0s 3ms/step - loss: 0.1932 - val_loss: 0.1522\n",
      "Epoch 48/600\n",
      "14/14 [==============================] - 0s 3ms/step - loss: 0.1900 - val_loss: 0.1461\n",
      "Epoch 49/600\n",
      "14/14 [==============================] - 0s 3ms/step - loss: 0.1760 - val_loss: 0.1548\n",
      "Epoch 50/600\n",
      "14/14 [==============================] - 0s 3ms/step - loss: 0.1669 - val_loss: 0.1380\n",
      "Epoch 51/600\n",
      "14/14 [==============================] - 0s 3ms/step - loss: 0.1714 - val_loss: 0.1348\n",
      "Epoch 52/600\n",
      "14/14 [==============================] - 0s 4ms/step - loss: 0.1970 - val_loss: 0.1385\n",
      "Epoch 53/600\n",
      "14/14 [==============================] - 0s 4ms/step - loss: 0.1586 - val_loss: 0.1328\n",
      "Epoch 54/600\n",
      "14/14 [==============================] - 0s 4ms/step - loss: 0.1749 - val_loss: 0.1359\n",
      "Epoch 55/600\n",
      "14/14 [==============================] - 0s 4ms/step - loss: 0.1352 - val_loss: 0.1332\n",
      "Epoch 56/600\n",
      "14/14 [==============================] - 0s 3ms/step - loss: 0.1860 - val_loss: 0.1280\n",
      "Epoch 57/600\n",
      "14/14 [==============================] - 0s 4ms/step - loss: 0.1794 - val_loss: 0.1343\n",
      "Epoch 58/600\n",
      "14/14 [==============================] - 0s 3ms/step - loss: 0.1477 - val_loss: 0.1229\n",
      "Epoch 59/600\n",
      "14/14 [==============================] - 0s 3ms/step - loss: 0.1991 - val_loss: 0.1215\n",
      "Epoch 60/600\n",
      "14/14 [==============================] - 0s 3ms/step - loss: 0.1474 - val_loss: 0.1336\n",
      "Epoch 61/600\n",
      "14/14 [==============================] - 0s 3ms/step - loss: 0.1704 - val_loss: 0.1223\n",
      "Epoch 62/600\n",
      "14/14 [==============================] - 0s 3ms/step - loss: 0.1499 - val_loss: 0.1197\n",
      "Epoch 63/600\n",
      "14/14 [==============================] - 0s 3ms/step - loss: 0.1567 - val_loss: 0.1217\n",
      "Epoch 64/600\n",
      "14/14 [==============================] - 0s 4ms/step - loss: 0.1850 - val_loss: 0.1200\n",
      "Epoch 65/600\n",
      "14/14 [==============================] - 0s 4ms/step - loss: 0.1531 - val_loss: 0.1214\n",
      "Epoch 66/600\n",
      "14/14 [==============================] - 0s 4ms/step - loss: 0.1584 - val_loss: 0.1186\n",
      "Epoch 67/600\n",
      "14/14 [==============================] - 0s 3ms/step - loss: 0.1663 - val_loss: 0.1151\n",
      "Epoch 68/600\n",
      "14/14 [==============================] - 0s 3ms/step - loss: 0.1433 - val_loss: 0.1139\n",
      "Epoch 69/600\n",
      "14/14 [==============================] - 0s 3ms/step - loss: 0.1395 - val_loss: 0.1134\n",
      "Epoch 70/600\n",
      "14/14 [==============================] - 0s 3ms/step - loss: 0.1283 - val_loss: 0.1086\n",
      "Epoch 71/600\n",
      "14/14 [==============================] - 0s 3ms/step - loss: 0.1500 - val_loss: 0.1076\n",
      "Epoch 72/600\n",
      "14/14 [==============================] - 0s 3ms/step - loss: 0.1217 - val_loss: 0.1110\n",
      "Epoch 73/600\n",
      "14/14 [==============================] - 0s 3ms/step - loss: 0.1334 - val_loss: 0.1070\n",
      "Epoch 74/600\n",
      "14/14 [==============================] - 0s 3ms/step - loss: 0.1295 - val_loss: 0.1186\n",
      "Epoch 75/600\n",
      "14/14 [==============================] - 0s 3ms/step - loss: 0.1385 - val_loss: 0.1093\n",
      "Epoch 76/600\n",
      "14/14 [==============================] - 0s 3ms/step - loss: 0.1221 - val_loss: 0.1061\n",
      "Epoch 77/600\n",
      "14/14 [==============================] - 0s 3ms/step - loss: 0.1413 - val_loss: 0.1036\n",
      "Epoch 78/600\n",
      "14/14 [==============================] - 0s 3ms/step - loss: 0.1309 - val_loss: 0.1144\n",
      "Epoch 79/600\n",
      "14/14 [==============================] - 0s 3ms/step - loss: 0.1233 - val_loss: 0.1064\n",
      "Epoch 80/600\n",
      "14/14 [==============================] - 0s 4ms/step - loss: 0.1263 - val_loss: 0.1070\n",
      "Epoch 81/600\n",
      "14/14 [==============================] - 0s 3ms/step - loss: 0.1020 - val_loss: 0.1074\n",
      "Epoch 82/600\n",
      "14/14 [==============================] - 0s 3ms/step - loss: 0.1271 - val_loss: 0.1059\n",
      "Epoch 83/600\n"
     ]
    },
    {
     "name": "stdout",
     "output_type": "stream",
     "text": [
      "14/14 [==============================] - 0s 3ms/step - loss: 0.1198 - val_loss: 0.1052\n",
      "Epoch 84/600\n",
      "14/14 [==============================] - 0s 3ms/step - loss: 0.1321 - val_loss: 0.1050\n",
      "Epoch 85/600\n",
      "14/14 [==============================] - 0s 3ms/step - loss: 0.1336 - val_loss: 0.1045\n",
      "Epoch 86/600\n",
      "14/14 [==============================] - 0s 3ms/step - loss: 0.1217 - val_loss: 0.0998\n",
      "Epoch 87/600\n",
      "14/14 [==============================] - 0s 3ms/step - loss: 0.1296 - val_loss: 0.1028\n",
      "Epoch 88/600\n",
      "14/14 [==============================] - 0s 3ms/step - loss: 0.1172 - val_loss: 0.1064\n",
      "Epoch 89/600\n",
      "14/14 [==============================] - 0s 3ms/step - loss: 0.1282 - val_loss: 0.1011\n",
      "Epoch 90/600\n",
      "14/14 [==============================] - 0s 3ms/step - loss: 0.1132 - val_loss: 0.1026\n",
      "Epoch 91/600\n",
      "14/14 [==============================] - 0s 3ms/step - loss: 0.1431 - val_loss: 0.1350\n",
      "Epoch 92/600\n",
      "14/14 [==============================] - 0s 3ms/step - loss: 0.1265 - val_loss: 0.1029\n",
      "Epoch 93/600\n",
      "14/14 [==============================] - 0s 3ms/step - loss: 0.1357 - val_loss: 0.0995\n",
      "Epoch 94/600\n",
      "14/14 [==============================] - 0s 3ms/step - loss: 0.1130 - val_loss: 0.1077\n",
      "Epoch 95/600\n",
      "14/14 [==============================] - 0s 3ms/step - loss: 0.1095 - val_loss: 0.1022\n",
      "Epoch 96/600\n",
      "14/14 [==============================] - 0s 3ms/step - loss: 0.0974 - val_loss: 0.1055\n",
      "Epoch 97/600\n",
      "14/14 [==============================] - 0s 3ms/step - loss: 0.1102 - val_loss: 0.0998\n",
      "Epoch 98/600\n",
      "14/14 [==============================] - 0s 3ms/step - loss: 0.1036 - val_loss: 0.1084\n",
      "Epoch 99/600\n",
      "14/14 [==============================] - 0s 3ms/step - loss: 0.1044 - val_loss: 0.1033\n",
      "Epoch 100/600\n",
      "14/14 [==============================] - 0s 3ms/step - loss: 0.1056 - val_loss: 0.1063\n",
      "Epoch 101/600\n",
      "14/14 [==============================] - 0s 3ms/step - loss: 0.1222 - val_loss: 0.1128\n",
      "Epoch 102/600\n",
      "14/14 [==============================] - 0s 3ms/step - loss: 0.1072 - val_loss: 0.1015\n",
      "Epoch 103/600\n",
      "14/14 [==============================] - 0s 3ms/step - loss: 0.1070 - val_loss: 0.0985\n",
      "Epoch 104/600\n",
      "14/14 [==============================] - 0s 3ms/step - loss: 0.1144 - val_loss: 0.1016\n",
      "Epoch 105/600\n",
      "14/14 [==============================] - 0s 3ms/step - loss: 0.1190 - val_loss: 0.1056\n",
      "Epoch 106/600\n",
      "14/14 [==============================] - 0s 4ms/step - loss: 0.1081 - val_loss: 0.0999\n",
      "Epoch 107/600\n",
      "14/14 [==============================] - 0s 3ms/step - loss: 0.1200 - val_loss: 0.0951\n",
      "Epoch 108/600\n",
      "14/14 [==============================] - 0s 3ms/step - loss: 0.1044 - val_loss: 0.0967\n",
      "Epoch 109/600\n",
      "14/14 [==============================] - 0s 3ms/step - loss: 0.1022 - val_loss: 0.0980\n",
      "Epoch 110/600\n",
      "14/14 [==============================] - 0s 3ms/step - loss: 0.1125 - val_loss: 0.0963\n",
      "Epoch 111/600\n",
      "14/14 [==============================] - 0s 3ms/step - loss: 0.0938 - val_loss: 0.1037\n",
      "Epoch 112/600\n",
      "14/14 [==============================] - 0s 3ms/step - loss: 0.1081 - val_loss: 0.1106\n",
      "Epoch 113/600\n",
      "14/14 [==============================] - 0s 3ms/step - loss: 0.1102 - val_loss: 0.1034\n",
      "Epoch 114/600\n",
      "14/14 [==============================] - 0s 3ms/step - loss: 0.0966 - val_loss: 0.1006\n",
      "Epoch 115/600\n",
      "14/14 [==============================] - 0s 3ms/step - loss: 0.1110 - val_loss: 0.1125\n",
      "Epoch 116/600\n",
      "14/14 [==============================] - 0s 3ms/step - loss: 0.1126 - val_loss: 0.1154\n",
      "Epoch 117/600\n",
      "14/14 [==============================] - 0s 3ms/step - loss: 0.0942 - val_loss: 0.0993\n",
      "Epoch 00117: early stopping\n"
     ]
    },
    {
     "data": {
      "text/plain": [
       "<keras.callbacks.History at 0x24cd07e28e0>"
      ]
     },
     "execution_count": 14,
     "metadata": {},
     "output_type": "execute_result"
    }
   ],
   "source": [
    "model = Sequential()\n",
    "early_stop = EarlyStopping(monitor='val_loss',mode='min',verbose=1,patience=10)\n",
    "model.add(Dense(units=30,activation='relu'))\n",
    "model.add(Dropout(rate=0.5))         \n",
    "model.add(Dense(units=15,activation='relu'))\n",
    "model.add(Dropout(rate=0.5))\n",
    "model.add(Dense(units=1,activation='sigmoid'))\n",
    "model.compile(loss='binary_crossentropy',optimizer='adam')\n",
    "model.fit(x=X_train,y=y_train,epochs=600,validation_data=(X_test,y_test),callbacks=[early_stop])"
   ]
  },
  {
   "cell_type": "markdown",
   "id": "d212275e",
   "metadata": {},
   "source": [
    "Since we are tracking our validation loss, we want out mode to be min (minimize loss). Patience means that we will wait 25 epochs even after we detected a stopping point because of noise that could occur.\n",
    "It's a large epoch, but since we are using early stopping, the model will run optimally."
   ]
  },
  {
   "cell_type": "code",
   "execution_count": 15,
   "id": "846fad1b",
   "metadata": {},
   "outputs": [
    {
     "data": {
      "image/png": "[encoded data removed]",
      "text/plain": [
       "<Figure size 432x288 with 1 Axes>"
      ]
     },
     "metadata": {
      "needs_background": "light"
     },
     "output_type": "display_data"
    }
   ],
   "source": [
    "a = pd.DataFrame(model.history.history)\n",
    "a.plot()\n",
    "plt.show()"
   ]
  },
  {
   "cell_type": "markdown",
   "id": "76214ae9",
   "metadata": {},
   "source": [
    "Graphs shows that early stopping prevented the overfitting to our training data."
   ]
  },
  {
   "cell_type": "code",
   "execution_count": 16,
   "id": "e0c75e02",
   "metadata": {},
   "outputs": [
    {
     "name": "stdout",
     "output_type": "stream",
     "text": [
      "              precision    recall  f1-score   support\n",
      "\n",
      "           0       0.98      0.92      0.95        48\n",
      "           1       0.96      0.99      0.97        95\n",
      "\n",
      "    accuracy                           0.97       143\n",
      "   macro avg       0.97      0.95      0.96       143\n",
      "weighted avg       0.97      0.97      0.96       143\n",
      "\n",
      "[[44  4]\n",
      " [ 1 94]]\n"
     ]
    }
   ],
   "source": [
    "prediction = (model.predict(X_test) > 0.5).astype(\"int32\")\n",
    "\n",
    "print(classification_report(y_test,prediction))\n",
    "print(confusion_matrix(y_test,prediction))"
   ]
  },
  {
   "cell_type": "markdown",
   "id": "66804371",
   "metadata": {},
   "source": [
    "The results from the model evaluation shows that the model performed well and was able to have a high precision and recal rate."
   ]
  }
 ],
 "metadata": {
  "kernelspec": {
   "display_name": "Python 3",
   "language": "python",
   "name": "python3"
  },
  "language_info": {
   "codemirror_mode": {
    "name": "ipython",
    "version": 3
   },
   "file_extension": ".py",
   "mimetype": "text/x-python",
   "name": "python",
   "nbconvert_exporter": "python",
   "pygments_lexer": "ipython3",
   "version": "3.8.8"
  }
 },
 "nbformat": 4,
 "nbformat_minor": 5
}
